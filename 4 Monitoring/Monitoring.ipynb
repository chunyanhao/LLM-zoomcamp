{
 "cells": [
  {
   "cell_type": "markdown",
   "id": "2d80f2df",
   "metadata": {},
   "source": [
    "### offline evaluation\n",
    "    -cosine similarity\n",
    "        - original_answer -> chatGPT generate 5 questions -> searching engine to generate new_answer\n",
    "        - calculate cosine similarity of (original_answer, new_answer)\n",
    "    -LLM as a judge\n",
    "        - LLM_as_a_judge(original_answer, new_answer)\n",
    "        - LLM_as_a_judge(question, new_answer)\n",
    "### online evaluation"
   ]
  },
  {
   "cell_type": "code",
   "execution_count": 4,
   "id": "fb11c7bf",
   "metadata": {},
   "outputs": [
    {
     "data": {
      "text/plain": [
       "<Response [404]>"
      ]
     },
     "execution_count": 4,
     "metadata": {},
     "output_type": "execute_result"
    }
   ],
   "source": [
    "import requests \n",
    "\n",
    "base_url = 'https://github.com/DataTalksClub/llm-zoomcamp/blob/main'\n",
    "relative_url = '03-vector-search/eval/documents-with-ids.json'\n",
    "docs_url = f'{base_url}/{relative_url}?raw=1'\n",
    "docs_response = requests.get(docs_url)\n",
    "docs_response"
   ]
  }
 ],
 "metadata": {
  "kernelspec": {
   "display_name": "base",
   "language": "python",
   "name": "python3"
  },
  "language_info": {
   "codemirror_mode": {
    "name": "ipython",
    "version": 3
   },
   "file_extension": ".py",
   "mimetype": "text/x-python",
   "name": "python",
   "nbconvert_exporter": "python",
   "pygments_lexer": "ipython3",
   "version": "3.13.2"
  }
 },
 "nbformat": 4,
 "nbformat_minor": 5
}
